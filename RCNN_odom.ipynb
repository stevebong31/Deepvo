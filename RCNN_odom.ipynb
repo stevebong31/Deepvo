{
 "cells": [
  {
   "cell_type": "code",
   "execution_count": null,
   "metadata": {},
   "outputs": [],
   "source": [
    "import os, glob, cv2, math, csv, tqdm\n",
    "import numpy as np\n",
    "from PIL import Image\n",
    "import util \n",
    "from keras.utils.training_utils import multi_gpu_model\n",
    "from keras import backend as k\n",
    "from keras import applications, optimizers, losses, layers\n",
    "from keras.utils.training_utils import multi_gpu_model\n",
    "from keras import layers ,losses\n",
    "from keras.layers import Dropout, Input, Flatten, Dense, GlobalAveragePooling2D, Activation, LSTM, SeparableConv2D, TimeDistributed, GRU\n",
    "from keras.models import Sequential, Model, load_model\n",
    "from keras.preprocessing import image\n",
    "from keras.applications.vgg16 import preprocess_input\n",
    "from keras.layers.convolutional import Conv2D\n",
    "%matplotlib inline\n",
    "import matplotlib.pyplot as plt"
   ]
  },
  {
   "cell_type": "code",
   "execution_count": null,
   "metadata": {},
   "outputs": [],
   "source": [
    "def test_generator(root, seq, n_frame, batch):\n",
    "    seq_pose = seq +'.txt'\n",
    "    img_dir = os.path.join(root, 'sequences', seq,'image_2')\n",
    "    lab_dir = os.path.join(root, 'poses', seq_pose)\n",
    "    img_list = sorted(os.listdir(img_dir))\n",
    "    lab_list = util.load_dof6_labels(lab_dir)\n",
    "    idx = n_frame\n",
    "    while 1:\n",
    "        img = []\n",
    "        lab = []\n",
    "        \n",
    "        for i in range(batch):\n",
    "            bat_img = []\n",
    "            bat_lab = []\n",
    "            #print(idx)\n",
    "            img_seq_list = img_list[idx:idx+n_frame+1]\n",
    "            bat_lab = lab_list[idx+n_frame]\n",
    "            for img_name in img_seq_list:\n",
    "                img_path = os.path.join(img_dir, img_name)\n",
    "                tmp_img = cv2.resize(np.array(Image.open(img_path)),(512,384))/255.\n",
    "                bat_img.append(tmp_img)\n",
    "            img.append(np.concatenate((np.array(bat_img)[1:], np.array(bat_img)[:-1]),axis = 3))\n",
    "            lab.append(np.array(bat_lab))\n",
    "        print(idx)\n",
    "        idx = idx + 1\n",
    "        yield np.array(img), [np.array(lab)[:,:,:3],np.array(lab)[:,:,3:]]"
   ]
  },
  {
   "cell_type": "code",
   "execution_count": null,
   "metadata": {},
   "outputs": [],
   "source": [
    "def data_generator(root, seq, n_frame, batch):\n",
    "    while 1:\n",
    "        seq_ch = np.random.choice(seq)\n",
    "        seq_pose = seq_ch +'.txt'\n",
    "        img_dir = os.path.join(root, 'sequences', seq_ch,'image_2')\n",
    "        lab_dir = os.path.join(root, 'poses', seq_pose)\n",
    "        img_list = sorted(os.listdir(img_dir))\n",
    "        lab_list = util.load_dof6_labels(lab_dir)\n",
    "        img = []\n",
    "        lab = []\n",
    "        for i in range(batch):\n",
    "            bat_img = []\n",
    "            bat_lab = []\n",
    "            idx = np.random.randint(0, len(img_list)-n_frame+1)\n",
    "            img_seq_list = img_list[idx:idx+n_frame+1]\n",
    "            bat_lab = lab_list[idx:idx+n_frame]\n",
    "            for img_name in img_seq_list:\n",
    "                img_path = os.path.join(img_dir, img_name)\n",
    "                tmp_img = cv2.resize(np.array(Image.open(img_path)),(512,384))/255.\n",
    "                bat_img.append(tmp_img)\n",
    "            img.append(np.concatenate((np.array(bat_img)[1:], np.array(bat_img)[:-1]),axis = 3))\n",
    "            lab.append(np.array(bat_lab))\n",
    "        yield np.array(img), [np.array(lab)[:,:,:3],np.array(lab)[:,:,3:]]"
   ]
  },
  {
   "cell_type": "code",
   "execution_count": null,
   "metadata": {},
   "outputs": [],
   "source": [
    "n_time = 10\n",
    "batch = 4\n",
    "\n",
    "train_seq = ['00','01','02','03','04','05','06','07','08']\n",
    "train_root= '/data1/Kitti/odometry/'\n",
    "train_generator = data_generator(train_root, train_seq, n_time, batch)\n",
    "\n",
    "# val_seq = ['08','09']\n",
    "# val_root= '/data1/Kitti/odometry/'\n",
    "# val_generator = data_generator(val_root, val_seq, n_time, batch)"
   ]
  },
  {
   "cell_type": "code",
   "execution_count": null,
   "metadata": {},
   "outputs": [],
   "source": [
    "model_gen = load_model('../GAN/flow_net_good_e5.h5')\n",
    "model_top = Model(inputs = model_gen.input, \n",
    "                  outputs=model_gen.layers[18].output)"
   ]
  },
  {
   "cell_type": "code",
   "execution_count": null,
   "metadata": {},
   "outputs": [],
   "source": [
    "model_top.summary()"
   ]
  },
  {
   "cell_type": "code",
   "execution_count": null,
   "metadata": {},
   "outputs": [],
   "source": [
    "inputs = Input(shape=(None, 384, 512,6))\n",
    "x = TimeDistributed(model_top)(inputs)\n",
    "x = TimeDistributed(Flatten())(x)\n",
    "\n",
    "x = LSTM(1024, return_sequences=True)(x)\n",
    "x = LSTM(1024, return_sequences=True)(x)\n",
    "rotation = Dense(512, activation='relu')(x)\n",
    "rotation = Dense(3, name = 'rotation')(rotation)\n",
    "position = Dense(512, activation='relu')(x)\n",
    "position = Dense(3, name = 'position')(position)"
   ]
  },
  {
   "cell_type": "code",
   "execution_count": null,
   "metadata": {},
   "outputs": [],
   "source": [
    "model = Model(inputs = inputs, outputs = [rotation, position])\n",
    "for i in range(2):\n",
    "    model.layers[i].trainable = False\n",
    "model.compile(optimizer='adam', loss=['mse','mse'],loss_weights=[100,1])\n",
    "model.summary()"
   ]
  },
  {
   "cell_type": "code",
   "execution_count": null,
   "metadata": {
    "scrolled": true
   },
   "outputs": [],
   "source": [
    "hist = model.fit_generator(train_generator, steps_per_epoch=1000, epochs=5)    "
   ]
  },
  {
   "cell_type": "code",
   "execution_count": null,
   "metadata": {},
   "outputs": [],
   "source": [
    "#plt.plot(hist.history['loss'],'r-')\n",
    "plt.plot(hist.history['rotation_loss'],'b-')\n",
    "plt.plot(hist.history['position_loss'],'g-')\n",
    "plt.show()"
   ]
  },
  {
   "cell_type": "code",
   "execution_count": null,
   "metadata": {},
   "outputs": [],
   "source": [
    "test_seq = '10'\n",
    "test_root= './'\n",
    "test_n_time = 10\n",
    "test_batch = 1\n",
    "test_generator = test_generator(test_root, test_seq, test_n_time, test_batch)"
   ]
  },
  {
   "cell_type": "code",
   "execution_count": null,
   "metadata": {},
   "outputs": [],
   "source": [
    "test_img, test_lab = next(test_generator)\n",
    "test_img.shape\n",
    "np.array(test_lab).shape"
   ]
  },
  {
   "cell_type": "code",
   "execution_count": null,
   "metadata": {
    "scrolled": true
   },
   "outputs": [],
   "source": [
    "predic = []\n",
    "labels = []\n",
    "for i in range(1000):\n",
    "    test_img, test_lab = next(test_generator)\n",
    "    labels.append(np.reshape(np.concatenate((np.array(test_lab)[0],np.array(test_lab)[1]),axis=2),(10,6))[-1,:])\n",
    "    predic_tmp = model.predict(test_img)\n",
    "    predic.append(np.reshape(np.concatenate((np.array(predic_tmp)[0],np.array(predic_tmp)[1]),axis=2),(10,6))[-1,:])"
   ]
  },
  {
   "cell_type": "code",
   "execution_count": null,
   "metadata": {},
   "outputs": [],
   "source": [
    "predic_np = np.array(predic)\n",
    "labels_np = np.array(labels)"
   ]
  },
  {
   "cell_type": "code",
   "execution_count": null,
   "metadata": {},
   "outputs": [],
   "source": [
    "predic_np.shape"
   ]
  },
  {
   "cell_type": "code",
   "execution_count": null,
   "metadata": {},
   "outputs": [],
   "source": [
    "path = util.dof6_to_eval_path(predic_np)\n",
    "path_gt = util.dof6_to_eval_path(labels_np)\n",
    "\n",
    "plt.plot(path[0,:],path[2,:],'r')\n",
    "plt.plot(path_gt[0,:],path_gt[2,:],'g')\n",
    "plt.show()"
   ]
  },
  {
   "cell_type": "code",
   "execution_count": null,
   "metadata": {},
   "outputs": [],
   "source": [
    "plt.plot(path[1,:],'r')\n",
    "plt.plot(path_gt[1,:],'g')\n",
    "plt.show()"
   ]
  },
  {
   "cell_type": "code",
   "execution_count": null,
   "metadata": {},
   "outputs": [],
   "source": [
    "plt.plot(path[0,:],'r')\n",
    "plt.plot(path_gt[0,:],'g')\n",
    "plt.show()"
   ]
  },
  {
   "cell_type": "code",
   "execution_count": null,
   "metadata": {},
   "outputs": [],
   "source": [
    "plt.plot(path[2,:],'r')\n",
    "plt.plot(path_gt[2,:],'g')\n",
    "plt.show()"
   ]
  },
  {
   "cell_type": "code",
   "execution_count": null,
   "metadata": {},
   "outputs": [],
   "source": [
    "test_img, test_lab = next(train_generator)\n",
    "pre = model_gen.predict(test_img[0])\n",
    "plt.figure(figsize=(12, 5))\n",
    "plt.subplot(121)\n",
    "plt.imshow(test_img[0][0][:,:,:3])\n",
    "plt.title(\"input(val)\")\n",
    "plt.subplot(122)\n",
    "plt.imshow(test_img[0][0][:,:,3:])\n",
    "plt.show()\n",
    "            \n",
    "plt.figure(figsize=(12, 5))\n",
    "plt.subplot(121)\n",
    "plt.imshow(pre[3][0])\n",
    "plt.show()\n",
    "test_img.shape\n",
    "\n",
    "print(np.array(test_img).shape,np.array(test_lab).shape)\n",
    "\n"
   ]
  },
  {
   "cell_type": "code",
   "execution_count": null,
   "metadata": {},
   "outputs": [],
   "source": [
    "model.save('rcnn_odom_6ep_best2.h5')"
   ]
  },
  {
   "cell_type": "code",
   "execution_count": null,
   "metadata": {},
   "outputs": [],
   "source": []
  }
 ],
 "metadata": {
  "kernelspec": {
   "display_name": "Python 3",
   "language": "python",
   "name": "python3"
  },
  "language_info": {
   "codemirror_mode": {
    "name": "ipython",
    "version": 3
   },
   "file_extension": ".py",
   "mimetype": "text/x-python",
   "name": "python",
   "nbconvert_exporter": "python",
   "pygments_lexer": "ipython3",
   "version": "3.5.2"
  }
 },
 "nbformat": 4,
 "nbformat_minor": 2
}
