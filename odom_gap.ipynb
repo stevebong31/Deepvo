{
 "cells": [
  {
   "cell_type": "code",
   "execution_count": 1,
   "metadata": {
    "scrolled": true
   },
   "outputs": [
    {
     "name": "stderr",
     "output_type": "stream",
     "text": [
      "Using TensorFlow backend.\n"
     ]
    }
   ],
   "source": [
    "import os, glob, cv2, math, csv, tqdm, random, keras\n",
    "import numpy as np\n",
    "from PIL import Image\n",
    "import util \n",
    "from keras.utils.training_utils import multi_gpu_model\n",
    "from keras import backend as k\n",
    "from keras import applications, optimizers, losses, layers\n",
    "from keras.utils.training_utils import multi_gpu_model\n",
    "from keras import layers ,losses\n",
    "from keras.layers import Dropout, Input, Flatten, Dense, GlobalAveragePooling2D, Activation, LSTM, SeparableConv2D, TimeDistributed, GRU\n",
    "from keras.models import Sequential, Model, load_model\n",
    "from keras.preprocessing import image\n",
    "from keras.applications.vgg16 import preprocess_input\n",
    "from keras.layers.convolutional import Conv2D\n",
    "%matplotlib inline\n",
    "import matplotlib.pyplot as plt"
   ]
  },
  {
   "cell_type": "code",
   "execution_count": 2,
   "metadata": {},
   "outputs": [],
   "source": [
    "def data_list_load(seq, root):\n",
    "    img_path_total = []\n",
    "    lab_path_total = []\n",
    "    for seq_ch in seq:\n",
    "        img_dir = os.path.join(root, 'sequences', seq_ch,'image_2')\n",
    "        seq_pose = seq_ch + '.txt'\n",
    "        lab_dir = os.path.join(root, 'poses', seq_pose)\n",
    "        lab_list = util.load_dof6_labels(lab_dir)\n",
    "        lab_dir = os.path.join(root, 'poses', seq_pose)\n",
    "        paths = sorted(glob.glob(img_dir+'/*.png'))\n",
    "\n",
    "        for i in tqdm.tqdm(paths):\n",
    "            img_time = [[paths[i], paths[i+1], paths[i+2], \n",
    "                         paths[i+3], paths[i+4], paths[i+5], \n",
    "                         paths[i+6], paths[i+7], paths[i+8], \n",
    "                         paths[i+9], paths[i+10]] \n",
    "                        for i in range(len(paths)-10)]\n",
    "        img_path_total = img_path_total + img_time\n",
    "        lab_path_total = lab_path_total + lab_list[9:]\n",
    "    print(len(img_path_total), len(lab_path_total))\n",
    "    return img_path_total, lab_path_total"
   ]
  },
  {
   "cell_type": "code",
   "execution_count": 3,
   "metadata": {},
   "outputs": [],
   "source": [
    "def data_generator(total_img, total_lab, batch):\n",
    "    total = []        \n",
    "    while 1:\n",
    "        idx = list(range(0,len(total_img)))\n",
    "        idx_batch = random.sample(idx,batch)\n",
    "        \n",
    "        bat_img = []\n",
    "        bat_lab = []\n",
    "        \n",
    "        for i in idx_batch:\n",
    "            tmp_img = []\n",
    "            for j in range(10):\n",
    "                img = cv2.resize(np.concatenate((Image.open(total_img[i][j]),Image.open(total_img[i][j+1])),axis = 2),(512,384))/255.\n",
    "                tmp_img.append(img)\n",
    "            lab = total_lab[i]\n",
    "            bat_img.append(np.array(tmp_img))\n",
    "            bat_lab.append(lab) \n",
    "        yield np.array(bat_img), [np.array(bat_lab)[:,0],\n",
    "                                  np.array(bat_lab)[:,1],\n",
    "                                  np.array(bat_lab)[:,2],\n",
    "                                  np.array(bat_lab)[:,3],\n",
    "                                  np.array(bat_lab)[:,4],\n",
    "                                  np.array(bat_lab)[:,5]]"
   ]
  },
  {
   "cell_type": "code",
   "execution_count": 4,
   "metadata": {},
   "outputs": [],
   "source": [
    "def test_generator(total_img, total_lab, batch):\n",
    "    total = []\n",
    "    idx_batch = 0        \n",
    "    while 1:\n",
    "        bat_img = []\n",
    "        bat_lab = []\n",
    "        tmp_img = []       \n",
    "        for j in range(10):\n",
    "            img = cv2.resize(np.concatenate((Image.open(total_img[idx_batch][j]),Image.open(total_img[idx_batch][j+1])),axis = 2),(512,384))/255.\n",
    "            tmp_img.append(img)\n",
    "        lab = total_lab[idx_batch]\n",
    "        bat_img.append(np.array(tmp_img))\n",
    "        bat_lab.append(lab) \n",
    "        print(idx_batch)\n",
    "        idx_batch = idx_batch + 1\n",
    "        yield np.array(bat_img), [np.array(bat_lab)[:,0],\n",
    "                                  np.array(bat_lab)[:,1],\n",
    "                                  np.array(bat_lab)[:,2],\n",
    "                                  np.array(bat_lab)[:,3],\n",
    "                                  np.array(bat_lab)[:,4],\n",
    "                                  np.array(bat_lab)[:,5]]"
   ]
  },
  {
   "cell_type": "code",
   "execution_count": 5,
   "metadata": {},
   "outputs": [
    {
     "name": "stderr",
     "output_type": "stream",
     "text": [
      "100%|██████████| 4541/4541 [00:27<00:00, 167.85it/s]\n"
     ]
    },
    {
     "name": "stdout",
     "output_type": "stream",
     "text": [
      "4531 4531\n"
     ]
    },
    {
     "name": "stderr",
     "output_type": "stream",
     "text": [
      "100%|██████████| 1591/1591 [00:02<00:00, 629.12it/s]"
     ]
    },
    {
     "name": "stdout",
     "output_type": "stream",
     "text": [
      "1581 1581\n"
     ]
    },
    {
     "name": "stderr",
     "output_type": "stream",
     "text": [
      "\n"
     ]
    }
   ],
   "source": [
    "batch = 16\n",
    "train_seq = ['00']\n",
    "train_root= '/data1/Kitti/odometry/'\n",
    "train_list, train_lab = data_list_load(train_seq, train_root)\n",
    "train = data_generator(train_list, train_lab, batch)\n",
    "\n",
    "val_seq = ['09']\n",
    "val_root= '/data1/Kitti/odometry/'\n",
    "val_list, val_lab = data_list_load(val_seq, val_root)\n",
    "val = data_generator(val_list, val_lab, batch)"
   ]
  },
  {
   "cell_type": "code",
   "execution_count": 6,
   "metadata": {},
   "outputs": [
    {
     "name": "stdout",
     "output_type": "stream",
     "text": [
      "_________________________________________________________________\n",
      "Layer (type)                 Output Shape              Param #   \n",
      "=================================================================\n",
      "input_1 (InputLayer)         (None, 384, 512, 6)       0         \n",
      "_________________________________________________________________\n",
      "conv2d_1 (Conv2D)            (None, 192, 256, 64)      18880     \n",
      "_________________________________________________________________\n",
      "leaky_re_lu_1 (LeakyReLU)    (None, 192, 256, 64)      0         \n",
      "_________________________________________________________________\n",
      "conv2d_2 (Conv2D)            (None, 96, 128, 128)      204928    \n",
      "_________________________________________________________________\n",
      "leaky_re_lu_2 (LeakyReLU)    (None, 96, 128, 128)      0         \n",
      "_________________________________________________________________\n",
      "conv2d_3 (Conv2D)            (None, 48, 64, 256)       819456    \n",
      "_________________________________________________________________\n",
      "leaky_re_lu_3 (LeakyReLU)    (None, 48, 64, 256)       0         \n",
      "_________________________________________________________________\n",
      "conv2d_4 (Conv2D)            (None, 48, 64, 256)       590080    \n",
      "_________________________________________________________________\n",
      "leaky_re_lu_4 (LeakyReLU)    (None, 48, 64, 256)       0         \n",
      "_________________________________________________________________\n",
      "conv2d_5 (Conv2D)            (None, 24, 32, 512)       1180160   \n",
      "_________________________________________________________________\n",
      "leaky_re_lu_5 (LeakyReLU)    (None, 24, 32, 512)       0         \n",
      "_________________________________________________________________\n",
      "conv2d_6 (Conv2D)            (None, 24, 32, 512)       2359808   \n",
      "_________________________________________________________________\n",
      "leaky_re_lu_6 (LeakyReLU)    (None, 24, 32, 512)       0         \n",
      "_________________________________________________________________\n",
      "conv2d_7 (Conv2D)            (None, 12, 16, 512)       2359808   \n",
      "_________________________________________________________________\n",
      "leaky_re_lu_7 (LeakyReLU)    (None, 12, 16, 512)       0         \n",
      "_________________________________________________________________\n",
      "conv2d_8 (Conv2D)            (None, 12, 16, 512)       2359808   \n",
      "_________________________________________________________________\n",
      "leaky_re_lu_8 (LeakyReLU)    (None, 12, 16, 512)       0         \n",
      "_________________________________________________________________\n",
      "conv2d_9 (Conv2D)            (None, 6, 8, 1024)        4719616   \n",
      "_________________________________________________________________\n",
      "leaky_re_lu_9 (LeakyReLU)    (None, 6, 8, 1024)        0         \n",
      "=================================================================\n",
      "Total params: 14,612,544\n",
      "Trainable params: 14,612,544\n",
      "Non-trainable params: 0\n",
      "_________________________________________________________________\n"
     ]
    }
   ],
   "source": [
    "model_gen = load_model('../Opticalflow/20190527_mobflow_00000001.h5')\n",
    "model_top = Model(inputs = model_gen.input, \n",
    "                  outputs=model_gen.layers[18].output)\n",
    "model_top.summary()"
   ]
  },
  {
   "cell_type": "code",
   "execution_count": 7,
   "metadata": {},
   "outputs": [],
   "source": [
    "inputs = Input(shape=(None, 384, 512,6))\n",
    "x = TimeDistributed(model_top)(inputs)\n",
    "x = TimeDistributed(GlobalAveragePooling2D())(x)\n",
    "x = LSTM(1024, return_sequences=True)(x)\n",
    "x = LSTM(1024)(x)\n",
    "r = Dense(256, activation='relu')(x)\n",
    "r = Dense(1, name = 'r')(r)\n",
    "p = Dense(256, activation='relu')(x)\n",
    "p = Dense(1, name = 'p')(p)\n",
    "w = Dense(256, activation='relu')(x)\n",
    "w = Dense(1, name = 'w')(w)\n",
    "x = Dense(256, activation='relu')(x)\n",
    "x = Dense(1, name = 'x')(x)\n",
    "y = Dense(256, activation='relu')(x)\n",
    "y = Dense(1, name = 'y')(y)\n",
    "z = Dense(256, activation='relu')(x)\n",
    "z = Dense(1, name = 'z')(z)"
   ]
  },
  {
   "cell_type": "code",
   "execution_count": 8,
   "metadata": {
    "scrolled": false
   },
   "outputs": [
    {
     "name": "stdout",
     "output_type": "stream",
     "text": [
      "__________________________________________________________________________________________________\n",
      "Layer (type)                    Output Shape         Param #     Connected to                     \n",
      "==================================================================================================\n",
      "input_1 (InputLayer)            (None, None, 384, 51 0                                            \n",
      "__________________________________________________________________________________________________\n",
      "time_distributed_1 (TimeDistrib (None, None, 6, 8, 1 14612544    input_1[0][0]                    \n",
      "__________________________________________________________________________________________________\n",
      "time_distributed_2 (TimeDistrib (None, None, 1024)   0           time_distributed_1[0][0]         \n",
      "__________________________________________________________________________________________________\n",
      "lstm_1 (LSTM)                   (None, None, 1024)   8392704     time_distributed_2[0][0]         \n",
      "__________________________________________________________________________________________________\n",
      "lstm_2 (LSTM)                   (None, 1024)         8392704     lstm_1[0][0]                     \n",
      "__________________________________________________________________________________________________\n",
      "dense_4 (Dense)                 (None, 256)          262400      lstm_2[0][0]                     \n",
      "__________________________________________________________________________________________________\n",
      "x (Dense)                       (None, 1)            257         dense_4[0][0]                    \n",
      "__________________________________________________________________________________________________\n",
      "dense_1 (Dense)                 (None, 256)          262400      lstm_2[0][0]                     \n",
      "__________________________________________________________________________________________________\n",
      "dense_2 (Dense)                 (None, 256)          262400      lstm_2[0][0]                     \n",
      "__________________________________________________________________________________________________\n",
      "dense_3 (Dense)                 (None, 256)          262400      lstm_2[0][0]                     \n",
      "__________________________________________________________________________________________________\n",
      "dense_5 (Dense)                 (None, 256)          512         x[0][0]                          \n",
      "__________________________________________________________________________________________________\n",
      "dense_6 (Dense)                 (None, 256)          512         x[0][0]                          \n",
      "__________________________________________________________________________________________________\n",
      "r (Dense)                       (None, 1)            257         dense_1[0][0]                    \n",
      "__________________________________________________________________________________________________\n",
      "p (Dense)                       (None, 1)            257         dense_2[0][0]                    \n",
      "__________________________________________________________________________________________________\n",
      "w (Dense)                       (None, 1)            257         dense_3[0][0]                    \n",
      "__________________________________________________________________________________________________\n",
      "y (Dense)                       (None, 1)            257         dense_5[0][0]                    \n",
      "__________________________________________________________________________________________________\n",
      "z (Dense)                       (None, 1)            257         dense_6[0][0]                    \n",
      "==================================================================================================\n",
      "Total params: 32,450,118\n",
      "Trainable params: 17,837,574\n",
      "Non-trainable params: 14,612,544\n",
      "__________________________________________________________________________________________________\n"
     ]
    }
   ],
   "source": [
    "model = Model(inputs = inputs, outputs = [r, p, w, x, y, z])\n",
    "for i in range(2):\n",
    "    model.layers[i].trainable = False\n",
    "model.compile(optimizer='adam', loss=['mse','mse','mse','mse','mse','mse'],loss_weights=[100,100,100,1,1,1])\n",
    "model.summary()"
   ]
  },
  {
   "cell_type": "code",
   "execution_count": null,
   "metadata": {},
   "outputs": [],
   "source": [
    "mc = keras.callbacks.ModelCheckpoint('save_multi2/gap_multi_lstm{epoch:08d}.h5', period=1)"
   ]
  },
  {
   "cell_type": "code",
   "execution_count": null,
   "metadata": {
    "scrolled": false
   },
   "outputs": [],
   "source": [
    "hist = model.fit_generator(train, steps_per_epoch=256, epochs=10, callbacks=[mc],\n",
    "                           validation_data= val, validation_steps= 5)    "
   ]
  },
  {
   "cell_type": "code",
   "execution_count": null,
   "metadata": {},
   "outputs": [],
   "source": [
    "test_seq = ['00']\n",
    "test_root= '/data1/Kitti/odometry/'\n",
    "test_list, test_lab = data_list_load(test_seq, test_root)\n",
    "test = test_generator(test_list, test_lab, batch)"
   ]
  },
  {
   "cell_type": "code",
   "execution_count": null,
   "metadata": {},
   "outputs": [],
   "source": [
    "predic = []\n",
    "labels = []\n",
    "for i in range(4000):\n",
    "    test_img, test_lab = next(test)\n",
    "    labels.append(np.reshape(np.concatenate((np.array(test_lab)[0],\n",
    "                                             np.array(test_lab)[1],\n",
    "                                             np.array(test_lab)[2],\n",
    "                                             np.array(test_lab)[3],\n",
    "                                             np.array(test_lab)[4],\n",
    "                                             np.array(test_lab)[5]),axis=0),(1,6))[-1,:])\n",
    "    predic_tmp = model.predict(test_img)\n",
    "    predic.append(np.reshape(np.concatenate((np.array(predic_tmp)[0],\n",
    "                                             np.array(predic_tmp)[1],\n",
    "                                             np.array(predic_tmp)[2],\n",
    "                                             np.array(predic_tmp)[3],\n",
    "                                             np.array(predic_tmp)[4],\n",
    "                                             np.array(predic_tmp)[5]),axis=0),(1,6))[-1,:])"
   ]
  },
  {
   "cell_type": "code",
   "execution_count": null,
   "metadata": {},
   "outputs": [],
   "source": [
    "predic_np = np.array(predic)\n",
    "labels_np = np.array(labels)"
   ]
  },
  {
   "cell_type": "code",
   "execution_count": null,
   "metadata": {},
   "outputs": [],
   "source": [
    "path = util.dof6_to_eval_path(predic_np)\n",
    "path_gt = util.dof6_to_eval_path(labels_np)\n",
    "\n",
    "plt.plot(path[0,:],path[2,:],'r')\n",
    "plt.plot(path_gt[0,:],path_gt[2,:],'g')\n",
    "plt.show()"
   ]
  },
  {
   "cell_type": "code",
   "execution_count": null,
   "metadata": {},
   "outputs": [],
   "source": []
  },
  {
   "cell_type": "code",
   "execution_count": null,
   "metadata": {},
   "outputs": [],
   "source": []
  }
 ],
 "metadata": {
  "kernelspec": {
   "display_name": "Python 3",
   "language": "python",
   "name": "python3"
  },
  "language_info": {
   "codemirror_mode": {
    "name": "ipython",
    "version": 3
   },
   "file_extension": ".py",
   "mimetype": "text/x-python",
   "name": "python",
   "nbconvert_exporter": "python",
   "pygments_lexer": "ipython3",
   "version": "3.5.2"
  }
 },
 "nbformat": 4,
 "nbformat_minor": 2
}
