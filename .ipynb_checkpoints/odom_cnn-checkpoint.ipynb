{
 "cells": [
  {
   "cell_type": "code",
   "execution_count": 1,
   "metadata": {},
   "outputs": [
    {
     "name": "stderr",
     "output_type": "stream",
     "text": [
      "Using TensorFlow backend.\n"
     ]
    }
   ],
   "source": [
    "import os, glob, cv2, math, csv, tqdm, random, keras\n",
    "import numpy as np\n",
    "from PIL import Image\n",
    "import util \n",
    "from keras.utils.training_utils import multi_gpu_model\n",
    "from keras import backend as k\n",
    "from keras import applications, optimizers, losses, layers\n",
    "from keras.utils.training_utils import multi_gpu_model\n",
    "from keras import layers ,losses\n",
    "from keras.layers import Dropout, Input, Flatten, Dense, GlobalAveragePooling2D, Activation, LSTM, SeparableConv2D, TimeDistributed, GRU\n",
    "from keras.models import Sequential, Model, load_model\n",
    "from keras.preprocessing import image\n",
    "from keras.applications.vgg16 import preprocess_input\n",
    "from keras.layers.convolutional import Conv2D\n",
    "%matplotlib inline\n",
    "import matplotlib.pyplot as plt"
   ]
  },
  {
   "cell_type": "code",
   "execution_count": 2,
   "metadata": {},
   "outputs": [],
   "source": [
    "def data_list_load(seq, root):\n",
    "    img_path_total = []\n",
    "    lab_path_total = []\n",
    "    for seq_ch in seq:\n",
    "        img_dir = os.path.join(root, 'sequences', seq_ch,'image_2')\n",
    "        seq_pose = seq_ch + '.txt'\n",
    "        lab_dir = os.path.join(root, 'poses', seq_pose)\n",
    "        lab_list = util.load_dof6_labels(lab_dir)\n",
    "        lab_dir = os.path.join(root, 'poses', seq_pose)\n",
    "        paths = sorted(glob.glob(img_dir+'/*.png'))\n",
    "\n",
    "        for i in tqdm.tqdm(paths):\n",
    "            img_time = [[paths[i], paths[i+1], paths[i+2], \n",
    "                         paths[i+3], paths[i+4], paths[i+5], \n",
    "                         paths[i+6], paths[i+7], paths[i+8], \n",
    "                         paths[i+9], paths[i+10]] \n",
    "                        for i in range(len(paths)-10)]\n",
    "        img_path_total = img_path_total + img_time\n",
    "        lab_path_total = lab_path_total + lab_list[9:]\n",
    "    print(len(img_path_total), len(lab_path_total))\n",
    "    return img_path_total, lab_path_total"
   ]
  },
  {
   "cell_type": "code",
   "execution_count": 3,
   "metadata": {},
   "outputs": [],
   "source": [
    "def data_generator(total_img, total_lab, batch):\n",
    "    total = []        \n",
    "    while 1:\n",
    "        idx = list(range(0,len(total_img)))\n",
    "        idx_batch = random.sample(idx,batch)\n",
    "        \n",
    "        bat_img = []\n",
    "        bat_lab = []\n",
    "        \n",
    "        for i in idx_batch:\n",
    "            tmp_img = []\n",
    "            for j in range(10):\n",
    "                img = cv2.resize(np.concatenate((Image.open(total_img[i][j]),Image.open(total_img[i][j+1])),axis = 2),(512,384))/255.\n",
    "                tmp_img.append(img)\n",
    "            lab = total_lab[i]\n",
    "            bat_img.append(np.array(tmp_img))\n",
    "            bat_lab.append(lab) \n",
    "        yield np.array(bat_img), [np.array(bat_lab)[:,:3],np.array(bat_lab)[:,3:]]"
   ]
  },
  {
   "cell_type": "code",
   "execution_count": 4,
   "metadata": {},
   "outputs": [],
   "source": [
    "def test_generator(total_img, total_lab, batch):\n",
    "    total = []\n",
    "    idx_batch = 0        \n",
    "    while 1:\n",
    "        bat_img = []\n",
    "        bat_lab = []\n",
    "        tmp_img = []       \n",
    "        for j in range(10):\n",
    "            img = cv2.resize(np.concatenate((Image.open(total_img[idx_batch][j]),Image.open(total_img[idx_batch][j+1])),axis = 2),(512,384))/255.\n",
    "            tmp_img.append(img)\n",
    "        lab = total_lab[idx_batch]\n",
    "        bat_img.append(np.array(tmp_img))\n",
    "        bat_lab.append(lab) \n",
    "        print(idx_batch)\n",
    "        idx_batch = idx_batch + 1\n",
    "        yield np.array(bat_img), [np.array(bat_lab)[:,:3],np.array(bat_lab)[:,3:]]"
   ]
  },
  {
   "cell_type": "code",
   "execution_count": 5,
   "metadata": {},
   "outputs": [
    {
     "name": "stderr",
     "output_type": "stream",
     "text": [
      "100%|██████████| 4541/4541 [00:25<00:00, 179.01it/s]\n",
      "100%|██████████| 1101/1101 [00:01<00:00, 1095.87it/s]\n",
      "100%|██████████| 4661/4661 [00:26<00:00, 174.50it/s]\n",
      "100%|██████████| 801/801 [00:00<00:00, 1454.96it/s]\n",
      "100%|██████████| 271/271 [00:00<00:00, 8484.85it/s]\n",
      "100%|██████████| 2761/2761 [00:08<00:00, 322.78it/s]\n",
      "100%|██████████| 1101/1101 [00:00<00:00, 1148.07it/s]\n",
      "100%|██████████| 1101/1101 [00:00<00:00, 1180.01it/s]\n",
      "100%|██████████| 4071/4071 [00:20<00:00, 198.06it/s]\n",
      "  0%|          | 0/1591 [00:00<?, ?it/s]"
     ]
    },
    {
     "name": "stdout",
     "output_type": "stream",
     "text": [
      "20319 20319\n"
     ]
    },
    {
     "name": "stderr",
     "output_type": "stream",
     "text": [
      "100%|██████████| 1591/1591 [00:02<00:00, 657.13it/s]"
     ]
    },
    {
     "name": "stdout",
     "output_type": "stream",
     "text": [
      "1581 1581\n"
     ]
    },
    {
     "name": "stderr",
     "output_type": "stream",
     "text": [
      "\n"
     ]
    }
   ],
   "source": [
    "batch = 4\n",
    "train_seq = ['00','01','02','03','04','05','06','07','08']\n",
    "train_root= '/data1/Kitti/odometry/'\n",
    "train_list, train_lab = data_list_load(train_seq, train_root)\n",
    "train = data_generator(train_list, train_lab, batch)\n",
    "\n",
    "val_seq = ['09']\n",
    "val_root= '/data1/Kitti/odometry/'\n",
    "val_list, val_lab = data_list_load(val_seq, val_root)\n",
    "val = data_generator(val_list, val_lab, batch)"
   ]
  },
  {
   "cell_type": "code",
   "execution_count": 6,
   "metadata": {},
   "outputs": [],
   "source": [
    "model_gen = load_model('../GAN/flow_net_good_e5.h5')\n",
    "model_top = Model(inputs = model_gen.input, \n",
    "                  outputs=model_gen.layers[18].output)"
   ]
  },
  {
   "cell_type": "code",
   "execution_count": 7,
   "metadata": {},
   "outputs": [
    {
     "name": "stdout",
     "output_type": "stream",
     "text": [
      "_________________________________________________________________\n",
      "Layer (type)                 Output Shape              Param #   \n",
      "=================================================================\n",
      "input_1 (InputLayer)         (None, 384, 512, 6)       0         \n",
      "_________________________________________________________________\n",
      "conv2d_1 (Conv2D)            (None, 192, 256, 64)      18880     \n",
      "_________________________________________________________________\n",
      "leaky_re_lu_1 (LeakyReLU)    (None, 192, 256, 64)      0         \n",
      "_________________________________________________________________\n",
      "conv2d_2 (Conv2D)            (None, 96, 128, 128)      204928    \n",
      "_________________________________________________________________\n",
      "leaky_re_lu_2 (LeakyReLU)    (None, 96, 128, 128)      0         \n",
      "_________________________________________________________________\n",
      "conv2d_3 (Conv2D)            (None, 48, 64, 256)       819456    \n",
      "_________________________________________________________________\n",
      "leaky_re_lu_3 (LeakyReLU)    (None, 48, 64, 256)       0         \n",
      "_________________________________________________________________\n",
      "conv2d_4 (Conv2D)            (None, 48, 64, 256)       590080    \n",
      "_________________________________________________________________\n",
      "leaky_re_lu_4 (LeakyReLU)    (None, 48, 64, 256)       0         \n",
      "_________________________________________________________________\n",
      "conv2d_5 (Conv2D)            (None, 24, 32, 512)       1180160   \n",
      "_________________________________________________________________\n",
      "leaky_re_lu_5 (LeakyReLU)    (None, 24, 32, 512)       0         \n",
      "_________________________________________________________________\n",
      "conv2d_6 (Conv2D)            (None, 24, 32, 512)       2359808   \n",
      "_________________________________________________________________\n",
      "leaky_re_lu_6 (LeakyReLU)    (None, 24, 32, 512)       0         \n",
      "_________________________________________________________________\n",
      "conv2d_7 (Conv2D)            (None, 12, 16, 512)       2359808   \n",
      "_________________________________________________________________\n",
      "leaky_re_lu_7 (LeakyReLU)    (None, 12, 16, 512)       0         \n",
      "_________________________________________________________________\n",
      "conv2d_8 (Conv2D)            (None, 12, 16, 512)       2359808   \n",
      "_________________________________________________________________\n",
      "leaky_re_lu_8 (LeakyReLU)    (None, 12, 16, 512)       0         \n",
      "_________________________________________________________________\n",
      "conv2d_9 (Conv2D)            (None, 6, 8, 1024)        4719616   \n",
      "_________________________________________________________________\n",
      "leaky_re_lu_9 (LeakyReLU)    (None, 6, 8, 1024)        0         \n",
      "=================================================================\n",
      "Total params: 14,612,544\n",
      "Trainable params: 14,612,544\n",
      "Non-trainable params: 0\n",
      "_________________________________________________________________\n"
     ]
    }
   ],
   "source": [
    "model_top.summary()"
   ]
  },
  {
   "cell_type": "code",
   "execution_count": 8,
   "metadata": {},
   "outputs": [],
   "source": [
    "inputs = Input(shape=(None, 384, 512,6))\n",
    "x = TimeDistributed(model_top)(inputs)\n",
    "x = TimeDistributed(Flatten())(x)\n",
    "\n",
    "x = LSTM(1024, return_sequences=True)(x)\n",
    "x = LSTM(1024)(x)\n",
    "rotation = Dense(512, activation='relu')(x)\n",
    "rotation = Dense(3, name = 'rotation')(rotation)\n",
    "position = Dense(512, activation='relu')(x)\n",
    "position = Dense(3, name = 'position')(position)"
   ]
  },
  {
   "cell_type": "code",
   "execution_count": 9,
   "metadata": {},
   "outputs": [
    {
     "name": "stdout",
     "output_type": "stream",
     "text": [
      "__________________________________________________________________________________________________\n",
      "Layer (type)                    Output Shape         Param #     Connected to                     \n",
      "==================================================================================================\n",
      "input_1 (InputLayer)            (None, None, 384, 51 0                                            \n",
      "__________________________________________________________________________________________________\n",
      "time_distributed_1 (TimeDistrib (None, None, 6, 8, 1 14612544    input_1[0][0]                    \n",
      "__________________________________________________________________________________________________\n",
      "time_distributed_2 (TimeDistrib (None, None, 49152)  0           time_distributed_1[0][0]         \n",
      "__________________________________________________________________________________________________\n",
      "lstm_1 (LSTM)                   (None, None, 1024)   205524992   time_distributed_2[0][0]         \n",
      "__________________________________________________________________________________________________\n",
      "lstm_2 (LSTM)                   (None, 1024)         8392704     lstm_1[0][0]                     \n",
      "__________________________________________________________________________________________________\n",
      "dense_1 (Dense)                 (None, 512)          524800      lstm_2[0][0]                     \n",
      "__________________________________________________________________________________________________\n",
      "dense_2 (Dense)                 (None, 512)          524800      lstm_2[0][0]                     \n",
      "__________________________________________________________________________________________________\n",
      "rotation (Dense)                (None, 3)            1539        dense_1[0][0]                    \n",
      "__________________________________________________________________________________________________\n",
      "position (Dense)                (None, 3)            1539        dense_2[0][0]                    \n",
      "==================================================================================================\n",
      "Total params: 229,582,918\n",
      "Trainable params: 214,970,374\n",
      "Non-trainable params: 14,612,544\n",
      "__________________________________________________________________________________________________\n"
     ]
    }
   ],
   "source": [
    "model = Model(inputs = inputs, outputs = [rotation, position])\n",
    "for i in range(2):\n",
    "    model.layers[i].trainable = False\n",
    "model.compile(optimizer='adam', loss=['mse','mse'],loss_weights=[100,1])\n",
    "model.summary()"
   ]
  },
  {
   "cell_type": "code",
   "execution_count": 10,
   "metadata": {},
   "outputs": [],
   "source": [
    "mc = keras.callbacks.ModelCheckpoint('save_models/20190521_deepvo_step20000{epoch:08d}.h5', period=1)"
   ]
  },
  {
   "cell_type": "code",
   "execution_count": null,
   "metadata": {},
   "outputs": [
    {
     "name": "stdout",
     "output_type": "stream",
     "text": [
      "Epoch 1/3\n",
      "  180/20000 [..............................] - ETA: 11:44:48 - loss: 3.3793 - rotation_loss: 0.0329 - position_loss: 0.0928"
     ]
    }
   ],
   "source": [
    "hist = model.fit_generator(train, steps_per_epoch=20000, epochs=3, callbacks=[mc],\n",
    "                           validation_data= val, validation_steps= 5)    "
   ]
  },
  {
   "cell_type": "code",
   "execution_count": null,
   "metadata": {},
   "outputs": [],
   "source": [
    "test_seq = ['10']\n",
    "test_root= '/data1/Kitti/odometry/'\n",
    "test_list, test_lab = data_list_load(test_seq, test_root)\n",
    "test = test_generator(test_list, test_lab, batch)"
   ]
  },
  {
   "cell_type": "code",
   "execution_count": null,
   "metadata": {},
   "outputs": [],
   "source": [
    "predic = []\n",
    "labels = []\n",
    "for i in range(1000):\n",
    "    test_img, test_lab = next(test)\n",
    "    labels.append(np.reshape(np.concatenate((np.array(test_lab)[0],np.array(test_lab)[1]),axis=1),(1,6))[-1,:])\n",
    "    predic_tmp = model.predict(test_img)\n",
    "    predic.append(np.reshape(np.concatenate((np.array(predic_tmp)[0],np.array(predic_tmp)[1]),axis=1),(1,6))[-1,:])"
   ]
  },
  {
   "cell_type": "code",
   "execution_count": null,
   "metadata": {},
   "outputs": [],
   "source": [
    "predic_np = np.array(predic)\n",
    "labels_np = np.array(labels)"
   ]
  },
  {
   "cell_type": "code",
   "execution_count": null,
   "metadata": {},
   "outputs": [],
   "source": [
    "path = util.dof6_to_eval_path(predic_np)\n",
    "path_gt = util.dof6_to_eval_path(labels_np)\n",
    "\n",
    "plt.plot(path[0,:],path[2,:],'r')\n",
    "plt.plot(path_gt[0,:],path_gt[2,:],'g')\n",
    "plt.show()"
   ]
  },
  {
   "cell_type": "code",
   "execution_count": null,
   "metadata": {},
   "outputs": [],
   "source": []
  }
 ],
 "metadata": {
  "kernelspec": {
   "display_name": "Python 3",
   "language": "python",
   "name": "python3"
  },
  "language_info": {
   "codemirror_mode": {
    "name": "ipython",
    "version": 3
   },
   "file_extension": ".py",
   "mimetype": "text/x-python",
   "name": "python",
   "nbconvert_exporter": "python",
   "pygments_lexer": "ipython3",
   "version": "3.5.2"
  }
 },
 "nbformat": 4,
 "nbformat_minor": 2
}
